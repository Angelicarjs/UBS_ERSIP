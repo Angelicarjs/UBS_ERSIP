{
 "cells": [
  {
   "cell_type": "markdown",
   "id": "fe969bf4",
   "metadata": {},
   "source": [
    "**Lab**\n",
    "\n",
    "All the following questions can be answered with either predefined convolution\n",
    "python functions or direct loop implementations.\n",
    "Exercices:\n",
    "1. For a given spatial operator, compare the filtering effect and CPU time when\n",
    "increasing the kernel size.\n",
    "2. For a given spatial operator, compare the filtering effect and CPU time for a 2D\n",
    "separable kernel and its 1D alternatives.\n",
    "3. Compare the results of different smoothing operators.\n",
    "4. Compare the results of different sharpening operators.\n",
    "5. Compare the results of different edge detection operators.\n",
    "6. Are smoothing/sharpening operators invertible?\n",
    "7. Compare the linear and nonlinear filtering operators.\n",
    "8. Propose separable implementations of nonlinear operators.\n",
    "9. Verify the ability of edge-preserving smoothing filters."
   ]
  }
 ],
 "metadata": {
  "kernelspec": {
   "display_name": "satimg-env",
   "language": "python",
   "name": "python3"
  },
  "language_info": {
   "codemirror_mode": {
    "name": "ipython",
    "version": 3
   },
   "file_extension": ".py",
   "mimetype": "text/x-python",
   "name": "python",
   "nbconvert_exporter": "python",
   "pygments_lexer": "ipython3",
   "version": "3.10.18"
  }
 },
 "nbformat": 4,
 "nbformat_minor": 5
}
